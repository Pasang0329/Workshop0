{
  "nbformat": 4,
  "nbformat_minor": 0,
  "metadata": {
    "colab": {
      "provenance": []
    },
    "kernelspec": {
      "name": "python3",
      "display_name": "Python 3"
    },
    "language_info": {
      "name": "python"
    }
  },
  "cells": [
    {
      "cell_type": "markdown",
      "source": [
        "Task 1)"
      ],
      "metadata": {
        "id": "U5xoSW3hgpj4"
      }
    },
    {
      "cell_type": "code",
      "execution_count": null,
      "metadata": {
        "colab": {
          "base_uri": "https://localhost:8080/"
        },
        "id": "LbshRk2KgcKU",
        "outputId": "772c3669-d90b-4cea-d3c8-8dbed8fcf079"
      },
      "outputs": [
        {
          "output_type": "stream",
          "name": "stdout",
          "text": [
            "cold temperature: [8.2, 7.9, 9.0, 8.5, 7.7, 8.4, 9.5, 8.1, 7.6, 8.0, 7.8, 8.7, 9.2, 8.3, 8.9, 7.8]\n",
            "mild temperature : [14.1, 13.5, 13.0, 12.9, 13.3, 14.0, 13.4, 14.2, 12.8, 13.7, 13.6, 13.8, 13.9, 12.7, 13.1, 12.5]\n",
            "com,frtable temperature : [17.4, 18.0, 17.8, 16.5, 17.2, 16.7, 18.3, 17.9, 17.0, 16.8, 17.5, 17.1, 18.1, 16.4, 18.2, 16.6]\n"
          ]
        }
      ],
      "source": [
        "# A)creating list\n",
        "temperatures = [\n",
        "    8.2, 17.4, 14.1, 7.9, 18.0, 13.5, 9.0, 17.8, 13.0, 8.5,\n",
        "    16.5, 12.9, 7.7, 17.2, 13.3, 8.4, 16.7, 14.0, 9.5, 18.3,\n",
        "    13.4, 8.1, 17.9, 14.2, 7.6, 17.0, 12.8, 8.0, 16.8, 13.7,\n",
        "    7.8, 17.5, 13.6, 8.7, 17.1, 13.8, 9.2, 18.1, 13.9, 8.3,\n",
        "    16.4, 12.7, 8.9, 18.2, 13.1, 7.8, 16.6, 12.5\n",
        "]\n",
        "#empty list\n",
        "cold=[]\n",
        "mild=[]\n",
        "comfortable=[]\n",
        "#B)iterate over the temperature and classify\n",
        "for temp in temperatures:\n",
        "  if temp<10:\n",
        "    cold.append(temp)\n",
        "  elif 10<=temp<15:\n",
        "    mild.append(temp)\n",
        "  elif 15<=temp<20:\n",
        "    comfortable.append(temp)\n",
        "#c)printing list\n",
        "print(\"cold temperature:\",cold)\n",
        "print(\"mild temperature :\",mild)\n",
        "print(\"com,frtable temperature :\",comfortable)\n",
        "\n"
      ]
    },
    {
      "cell_type": "markdown",
      "source": [
        "task 2\n"
      ],
      "metadata": {
        "id": "XmC7w8mAgock"
      }
    },
    {
      "cell_type": "code",
      "source": [
        "# Given temperature data\n",
        "temperatures = [\n",
        "    8.2, 17.4, 14.1, 7.9, 18.0, 13.5, 9.0, 17.8, 13.0, 8.5,\n",
        "    16.5, 12.9, 7.7, 17.2, 13.3, 8.4, 16.7, 14.0, 9.5, 18.3,\n",
        "    13.4, 8.1, 17.9, 14.2, 7.6, 17.0, 12.8, 8.0, 16.8, 13.7,\n",
        "    7.8, 17.5, 13.6, 8.7, 17.1, 13.8, 9.2, 18.1, 13.9, 8.3,\n",
        "    16.4, 12.7, 8.9, 18.2, 13.1, 7.8, 16.6, 12.5\n",
        "]\n",
        "\n",
        "# Empty lists for classification\n",
        "cold = []\n",
        "mild = []\n",
        "comfortable = []\n",
        "\n",
        "# Classify temperatures\n",
        "for temp in temperatures:\n",
        "    if temp < 10:\n",
        "        cold.append(temp)\n",
        "    elif 10 <= temp < 15:\n",
        "        mild.append(temp)\n",
        "    elif 15 <= temp < 20:\n",
        "        comfortable.append(temp)\n",
        "\n",
        "# Print classified lists\n",
        "print(\"Cold temperatures:\", cold)\n",
        "print(\"Mild temperatures:\", mild)\n",
        "print(\"Comfortable temperatures:\", comfortable)\n",
        "\n",
        "# Count occurrences in each category\n",
        "cold_count = len(cold)\n",
        "mild_count = len(mild)\n",
        "comfortable_count = len(comfortable)\n",
        "\n",
        "# Print the counts\n",
        "print(\"1. How many times was it mild?\")\n",
        "print(f\"Answer: It was mild {mild_count} times.\")\n",
        "\n",
        "print(\"2. How many times was it comfortable?\")\n",
        "print(f\"Answer: It was comfortable {comfortable_count} times.\")\n",
        "\n",
        "print(\"3. How many times was it cold?\")\n",
        "print(f\"Answer: It was cold {cold_count} times.\")\n"
      ],
      "metadata": {
        "colab": {
          "base_uri": "https://localhost:8080/"
        },
        "id": "fQNbkDxakY_W",
        "outputId": "bf54588b-a574-4ac0-fea4-09487e64eb0e"
      },
      "execution_count": null,
      "outputs": [
        {
          "output_type": "stream",
          "name": "stdout",
          "text": [
            "Cold temperatures: [8.2, 7.9, 9.0, 8.5, 7.7, 8.4, 9.5, 8.1, 7.6, 8.0, 7.8, 8.7, 9.2, 8.3, 8.9, 7.8]\n",
            "Mild temperatures: [14.1, 13.5, 13.0, 12.9, 13.3, 14.0, 13.4, 14.2, 12.8, 13.7, 13.6, 13.8, 13.9, 12.7, 13.1, 12.5]\n",
            "Comfortable temperatures: [17.4, 18.0, 17.8, 16.5, 17.2, 16.7, 18.3, 17.9, 17.0, 16.8, 17.5, 17.1, 18.1, 16.4, 18.2, 16.6]\n",
            "1. How many times was it mild?\n",
            "Answer: It was mild 16 times.\n",
            "2. How many times was it comfortable?\n",
            "Answer: It was comfortable 16 times.\n",
            "3. How many times was it cold?\n",
            "Answer: It was cold 16 times.\n"
          ]
        }
      ]
    },
    {
      "cell_type": "code",
      "source": [
        "Task 3"
      ],
      "metadata": {
        "id": "-jqTCFgTor2R"
      },
      "execution_count": null,
      "outputs": []
    },
    {
      "cell_type": "code",
      "source": [
        "\n",
        "#creating new list\n",
        "temperatures_fahrenheit=[]\n",
        "fahrenheit=(temp*9/5)+32\n",
        "temperatures_fahrenheit.append(fahrenheit)\n",
        "print(\"temperature in Fahrenheit is:\")\n",
        "print(temperatures_fahrenheit)"
      ],
      "metadata": {
        "colab": {
          "base_uri": "https://localhost:8080/"
        },
        "id": "ShX695ooouwF",
        "outputId": "1c0faa5a-65d1-4a67-d962-a2a1a10cf26d"
      },
      "execution_count": null,
      "outputs": [
        {
          "output_type": "stream",
          "name": "stdout",
          "text": [
            "temperature in Fahrenheit is:\n",
            "[54.5]\n"
          ]
        }
      ]
    },
    {
      "cell_type": "markdown",
      "source": [
        "Task4"
      ],
      "metadata": {
        "id": "qJ0ecqv2qcdt"
      }
    },
    {
      "cell_type": "code",
      "source": [
        "import matplotlib.pyplot as plt\n",
        "\n",
        "# Given temperature data\n",
        "temperatures = [\n",
        "    8.2, 17.4, 14.1, 7.9, 18.0, 13.5, 9.0, 17.8, 13.0, 8.5,\n",
        "    16.5, 12.9, 7.7, 17.2, 13.3, 8.4, 16.7, 14.0, 9.5, 18.3,\n",
        "    13.4, 8.1, 17.9, 14.2, 7.6, 17.0, 12.8, 8.0, 16.8, 13.7,\n",
        "    7.8, 17.5, 13.6, 8.7, 17.1, 13.8, 9.2, 18.1, 13.9, 8.3,\n",
        "    16.4, 12.7, 8.9, 18.2, 13.1, 7.8, 16.6, 12.5\n",
        "]\n",
        "\n",
        "# 1. Create empty lists for night, evening, and day temperatures\n",
        "night = []\n",
        "evening = []\n",
        "day = []\n",
        "\n",
        "# 2. Assign temperatures to the respective lists based on their positions\n",
        "for i in range(len(temperatures)):\n",
        "    if i % 3 == 0:  # Night (00-08)\n",
        "        night.append(temperatures[i])\n",
        "    elif i % 3 == 1:  # Evening (08-16)\n",
        "        evening.append(temperatures[i])\n",
        "    else:  # Day (16-24)\n",
        "        day.append(temperatures[i])\n",
        "\n",
        "# 3. Calculate and print the average day-time temperature\n",
        "average_day_temp = sum(day) / len(day)\n",
        "print(f\"Average day-time temperature: {average_day_temp:.2f}°C\")\n",
        "\n",
        "# 4. Optional: Plot \"day vs. temperature\" using matplotlib\n",
        "days = list(range(1, len(day) + 1))  # Generate day numbers for plotting\n",
        "plt.figure(figsize=(10, 5))\n",
        "plt.plot(days, day, marker='o', linestyle='-', color='orange', label='Day Temperature')\n",
        "plt.title(\"Day vs. Temperature\")\n",
        "plt.xlabel(\"Day\")\n",
        "plt.ylabel(\"Temperature (°C)\")\n",
        "plt.grid(True)\n",
        "plt.legend()\n",
        "plt.show()"
      ],
      "metadata": {
        "id": "RQTQpc87qfDi",
        "colab": {
          "base_uri": "https://localhost:8080/",
          "height": 504
        },
        "outputId": "6fa4bd9c-6b09-4b3d-fcb3-d1a772766503"
      },
      "execution_count": null,
      "outputs": [
        {
          "output_type": "stream",
          "name": "stdout",
          "text": [
            "Average day-time temperature: 13.41°C\n"
          ]
        },
        {
          "output_type": "display_data",
          "data": {
            "text/plain": [
              "<Figure size 1000x500 with 1 Axes>"
            ],
            "image/png": "[encoded data removed]"
          },
          "metadata": {}
        }
      ]
    },
    {
      "cell_type": "markdown",
      "source": [
        "Sum of Nested list\n",
        "\n",
        "Task1"
      ],
      "metadata": {
        "id": "12ph1DfA3N6c"
      }
    },
    {
      "cell_type": "code",
      "source": [
        "def sum_nested_list(nested_list):\n",
        "    total = 0  # Initialize the total sum\n",
        "\n",
        "    for item in nested_list:\n",
        "        if isinstance(item, list):  # Check if the item is a list\n",
        "            total += sum_nested_list(item)\n",
        "        else:\n",
        "            total += item  # Add the number to the total\n",
        "\n",
        "    return total\n",
        "nested_list = [1, [2, 3], [4, [5, 6]], 7, [8, [9, [10]]]]\n",
        "result = sum_nested_list(nested_list)\n",
        "print(f\"The total sum of all numbers in the nested list is: {result}\")\n"
      ],
      "metadata": {
        "colab": {
          "base_uri": "https://localhost:8080/"
        },
        "id": "xIbTMbAF3wkB",
        "outputId": "976f95ab-3f4c-47e5-a93b-917592c3d7fe"
      },
      "execution_count": null,
      "outputs": [
        {
          "output_type": "stream",
          "name": "stdout",
          "text": [
            "The total sum of all numbers in the nested list is: 55\n"
          ]
        }
      ]
    },
    {
      "cell_type": "code",
      "source": [],
      "metadata": {
        "id": "Gdc3sMn36y4G"
      },
      "execution_count": null,
      "outputs": []
    },
    {
      "cell_type": "markdown",
      "source": [],
      "metadata": {
        "id": "c0giFHdg5gTD"
      }
    },
    {
      "cell_type": "code",
      "source": [
        "def sum_nested_list(nested_list):\n",
        "    total = 0\n",
        "    for element in nested_list:\n",
        "        if isinstance(element, list):  # Check if the element is a list\n",
        "            total += sum_nested_list(element)\n",
        "        else:\n",
        "            total += element  # Add the number to the total\n",
        "    return total\n",
        "\n",
        "# Test cases\n",
        "nested_list1 = [1, [2, [3, 4], 5], 6, [7, 8]]\n",
        "nested_list2 = [1, [2, 3], [4, [5]]]\n",
        "\n",
        "# Running the function and printing results\n",
        "print(f\"Sum of {nested_list1} is: {sum_nested_list(nested_list1)}\")  # Expected: 36\n",
        "print(f\"Sum of {nested_list2} is: {sum_nested_list(nested_list2)}\")  # Expected: 15\n"
      ],
      "metadata": {
        "colab": {
          "base_uri": "https://localhost:8080/"
        },
        "id": "m67VTIPv5gwj",
        "outputId": "224a8a7e-424a-4867-f1d0-da02aefc5f37"
      },
      "execution_count": null,
      "outputs": [
        {
          "output_type": "stream",
          "name": "stdout",
          "text": [
            "Sum of [1, [2, [3, 4], 5], 6, [7, 8]] is: 36\n",
            "Sum of [1, [2, 3], [4, [5]]] is: 15\n"
          ]
        }
      ]
    },
    {
      "cell_type": "code",
      "source": [
        "Task2"
      ],
      "metadata": {
        "id": "11iQ8ftK65M8"
      },
      "execution_count": null,
      "outputs": []
    },
    {
      "cell_type": "markdown",
      "source": [],
      "metadata": {
        "id": "k3WVaAYW6Vpm"
      }
    },
    {
      "cell_type": "code",
      "source": [
        "def generate_permutations(s):\n",
        "\n",
        "    def backtrack(path, remaining, results):\n",
        "        if not remaining:  # Base case: no characters left to permute\n",
        "            results.add(\"\".join(path))  # Add the permutation to the results set\n",
        "        else:\n",
        "            for i in range(len(remaining)):\n",
        "                # Choose a character and explore further\n",
        "                backtrack(path + [remaining[i]], remaining[:i] + remaining[i+1:], results)\n",
        "\n",
        "    results = set()  # Use a set to avoid duplicate permutations\n",
        "    backtrack([], list(s), results)  # Convert the string to a list of characters\n",
        "    return sorted(results)  # Return a sorted list of unique permutations for readability\n",
        "\n",
        "# Test cases\n",
        "print(generate_permutations(\"abc\"))  # Expected: ['abc', 'acb', 'bac', 'bca', 'cab', 'cba']\n",
        "print(generate_permutations(\"aab\"))  # Expected: ['aab', 'aba', 'baa']\n"
      ],
      "metadata": {
        "colab": {
          "base_uri": "https://localhost:8080/"
        },
        "id": "FxB8p-Lr6Sx0",
        "outputId": "055b7a3f-776c-4f47-9c8d-70c4c4052eee"
      },
      "execution_count": null,
      "outputs": [
        {
          "output_type": "stream",
          "name": "stdout",
          "text": [
            "['abc', 'acb', 'bac', 'bca', 'cab', 'cba']\n",
            "['aab', 'aba', 'baa']\n"
          ]
        }
      ]
    },
    {
      "cell_type": "code",
      "source": [
        "Task3"
      ],
      "metadata": {
        "id": "Wxf2xMxN6vtx"
      },
      "execution_count": null,
      "outputs": []
    },
    {
      "cell_type": "markdown",
      "source": [],
      "metadata": {
        "id": "i_sPB6vf6pzl"
      }
    },
    {
      "cell_type": "code",
      "source": [
        "def calculate_directory_size(directory):\n",
        "    total_size = 0\n",
        "\n",
        "    for name, content in directory.items():\n",
        "        if isinstance(content, dict):  # If it's a subdirectory\n",
        "            total_size += calculate_directory_size(content)  # Recursive call\n",
        "        else:  # It's a file\n",
        "            total_size += content\n",
        "\n",
        "    return total_size\n",
        "\n",
        "# Sample directory structure\n",
        "directory_structure = {\n",
        "    \"file1.txt\": 200,\n",
        "    \"file2.txt\": 300,\n",
        "    \"subdir1\": {\n",
        "        \"file3.txt\": 400,\n",
        "        \"file4.txt\": 100\n",
        "    },\n",
        "    \"subdir2\": {\n",
        "        \"subsubdir1\": {\n",
        "            \"file5.txt\": 250\n",
        "        },\n",
        "        \"file6.txt\": 150\n",
        "    }\n",
        "}\n",
        "\n",
        "# Test the function\n",
        "total_size = calculate_directory_size(directory_structure)\n",
        "print(f\"The total size of the directory is: {total_size} KB\")\n",
        "directory_structure = {\n",
        "    \"file1.txt\": 200,\n",
        "    \"file2.txt\": 300,\n",
        "    \"subdir1\": {\n",
        "        \"file3.txt\": 400,\n",
        "        \"file4.txt\": 100\n",
        "    },\n",
        "    \"subdir2\": {\n",
        "        \"subsubdir1\": {\n",
        "            \"file5.txt\": 250\n",
        "        },\n",
        "        \"file6.txt\": 150\n",
        "    }\n",
        "}\n"
      ],
      "metadata": {
        "colab": {
          "base_uri": "https://localhost:8080/"
        },
        "id": "9yH0fCra6qJE",
        "outputId": "7dddffee-0aad-42d6-b96c-98fe8d5f022c"
      },
      "execution_count": null,
      "outputs": [
        {
          "output_type": "stream",
          "name": "stdout",
          "text": [
            "The total size of the directory is: 1400 KB\n"
          ]
        }
      ]
    },
    {
      "cell_type": "code",
      "source": [
        "def min_coins(coins, amount):\n",
        "    dp = [float('inf')] * (amount + 1)\n",
        "    dp[0] = 0\n",
        "    for i in range(1, amount + 1):\n",
        "        for coin in coins:\n",
        "            if i >= coin:\n",
        "                dp[i] = min(dp[i], dp[i - coin] + 1)\n",
        "\n",
        "    return dp[amount] if dp[amount] != float('inf') else -1\n",
        "coins = [1, 2, 5]\n",
        "amount = 11\n",
        "result = min_coins(coins, amount)\n",
        "print(\"Minimum number of coins:\", result)"
      ],
      "metadata": {
        "colab": {
          "base_uri": "https://localhost:8080/"
        },
        "id": "udp--ZUJM5ug",
        "outputId": "a24b200c-a609-4b31-8106-b5fec27cf0b9"
      },
      "execution_count": null,
      "outputs": [
        {
          "output_type": "stream",
          "name": "stdout",
          "text": [
            "Minimum number of coins: 3\n"
          ]
        }
      ]
    },
    {
      "cell_type": "code",
      "source": [
        "def longest_common_subsequence(s1, s2):\n",
        "    m, n = len(s1), len(s2)\n",
        "    dp = [[0] * (n + 1) for _ in range(m + 1)]\n",
        "    for i in range(1, m + 1):\n",
        "        for j in range(1, n + 1):\n",
        "            if s1[i - 1] == s2[j - 1]:\n",
        "                dp[i][j] = dp[i - 1][j - 1] + 1\n",
        "            else:\n",
        "                dp[i][j] = max(dp[i - 1][j], dp[i][j - 1])\n",
        "\n",
        "    return dp[m][n]\n",
        "\n",
        "s1 = \"abcde\"\n",
        "s2 = \"ace\"\n",
        "result = longest_common_subsequence(s1, s2)\n",
        "print(\"Length of LCS:\", result)"
      ],
      "metadata": {
        "colab": {
          "base_uri": "https://localhost:8080/"
        },
        "id": "_WlcrrdjND3V",
        "outputId": "e28eacb7-7343-4132-93f3-2067377212c1"
      },
      "execution_count": null,
      "outputs": [
        {
          "output_type": "stream",
          "name": "stdout",
          "text": [
            "Length of LCS: 3\n"
          ]
        }
      ]
    },
    {
      "cell_type": "code",
      "source": [
        "def knapsack(weights, values, capacity):\n",
        "    n = len(weights)\n",
        "    dp = [[0] * (capacity + 1) for _ in range(n + 1)]\n",
        "    for i in range(1, n + 1):\n",
        "        for w in range(1, capacity + 1):\n",
        "            if weights[i - 1] <= w:\n",
        "                dp[i][w] = max(dp[i - 1][w], values[i - 1] + dp[i - 1][w - weights[i - 1]])\n",
        "            else:\n",
        "                dp[i][w] = dp[i - 1][w]\n",
        "\n",
        "    return dp[n][capacity]\n",
        "weights = [1, 3, 4, 5]\n",
        "values = [1, 4, 5, 7]\n",
        "capacity = 7\n",
        "result = knapsack(weights, values, capacity)\n",
        "print(\"Maximum value in knapsack:\", result)\n"
      ],
      "metadata": {
        "colab": {
          "base_uri": "https://localhost:8080/"
        },
        "id": "opIyp-KtNKFJ",
        "outputId": "e66aeee3-edca-49be-95e9-082739ec2746"
      },
      "execution_count": null,
      "outputs": [
        {
          "output_type": "stream",
          "name": "stdout",
          "text": [
            "Maximum value in knapsack: 9\n"
          ]
        }
      ]
    }
  ]
}