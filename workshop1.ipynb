{
  "nbformat": 4,
  "nbformat_minor": 0,
  "metadata": {
    "colab": {
      "provenance": []
    },
    "kernelspec": {
      "name": "python3",
      "display_name": "Python 3"
    },
    "language_info": {
      "name": "python"
    }
  },
  "cells": [
    {
      "cell_type": "markdown",
      "source": [
        "4.1)\n",
        "1)"
      ],
      "metadata": {
        "id": "WdFLDHJrh0RN"
      }
    },
    {
      "cell_type": "code",
      "source": [
        "import numpy as np\n",
        "a=np.empty((2,2))\n",
        "a"
      ],
      "metadata": {
        "colab": {
          "base_uri": "https://localhost:8080/"
        },
        "id": "_q2hdIZJcK8S",
        "outputId": "adfbaf5d-09b6-4c94-fee8-bd8b1fc06852"
      },
      "execution_count": null,
      "outputs": [
        {
          "output_type": "execute_result",
          "data": {
            "text/plain": [
              "array([[5.05097412e-310, 0.00000000e+000],\n",
              "       [6.20251605e-091, 8.84556194e+165]])"
            ]
          },
          "metadata": {},
          "execution_count": 21
        }
      ]
    },
    {
      "cell_type": "markdown",
      "source": [
        "2)"
      ],
      "metadata": {
        "id": "sAowOUBnh4-q"
      }
    },
    {
      "cell_type": "code",
      "source": [
        "a=np.ones((4,2))\n",
        "a"
      ],
      "metadata": {
        "colab": {
          "base_uri": "https://localhost:8080/"
        },
        "id": "48J0zHsBh6nV",
        "outputId": "e95be8e5-2239-4883-bd4c-094c86621e2c"
      },
      "execution_count": null,
      "outputs": [
        {
          "output_type": "execute_result",
          "data": {
            "text/plain": [
              "array([[1., 1.],\n",
              "       [1., 1.],\n",
              "       [1., 1.],\n",
              "       [1., 1.]])"
            ]
          },
          "metadata": {},
          "execution_count": 23
        }
      ]
    },
    {
      "cell_type": "markdown",
      "source": [
        "3)\n"
      ],
      "metadata": {
        "id": "h2lRWIamiXOx"
      }
    },
    {
      "cell_type": "code",
      "source": [
        "a=np.full((2,3),4)\n",
        "a"
      ],
      "metadata": {
        "colab": {
          "base_uri": "https://localhost:8080/"
        },
        "id": "fvs9UTtjiaPz",
        "outputId": "183e9db2-8162-419c-9485-bc94d8a9d3cc"
      },
      "execution_count": null,
      "outputs": [
        {
          "output_type": "execute_result",
          "data": {
            "text/plain": [
              "array([[4, 4, 4],\n",
              "       [4, 4, 4]])"
            ]
          },
          "metadata": {},
          "execution_count": 26
        }
      ]
    },
    {
      "cell_type": "markdown",
      "source": [
        "4)\n"
      ],
      "metadata": {
        "id": "zx674-vviYlL"
      }
    },
    {
      "cell_type": "code",
      "source": [
        "a=np.zeros_like([[1,2],[1,2]])\n",
        "a"
      ],
      "metadata": {
        "colab": {
          "base_uri": "https://localhost:8080/"
        },
        "id": "krgLVyvWjQ8y",
        "outputId": "6321b441-185f-422d-9471-038f5b5fb745"
      },
      "execution_count": null,
      "outputs": [
        {
          "output_type": "execute_result",
          "data": {
            "text/plain": [
              "array([[0, 0],\n",
              "       [0, 0]])"
            ]
          },
          "metadata": {},
          "execution_count": 40
        }
      ]
    },
    {
      "cell_type": "markdown",
      "source": [
        "5)\n"
      ],
      "metadata": {
        "id": "E00ZWEQ1jr_4"
      }
    },
    {
      "cell_type": "code",
      "source": [
        "a=np.ones_like([[1,2],[1,2]])\n",
        "a"
      ],
      "metadata": {
        "colab": {
          "base_uri": "https://localhost:8080/"
        },
        "id": "Acg5y-ETjtP0",
        "outputId": "0c5c057a-7b37-4b05-e3db-f85b4020ee3c"
      },
      "execution_count": null,
      "outputs": [
        {
          "output_type": "execute_result",
          "data": {
            "text/plain": [
              "array([[1, 1],\n",
              "       [1, 1]])"
            ]
          },
          "metadata": {},
          "execution_count": 39
        }
      ]
    },
    {
      "cell_type": "markdown",
      "source": [
        "6)\n"
      ],
      "metadata": {
        "id": "czemCqicj9Nf"
      }
    },
    {
      "cell_type": "code",
      "source": [
        "new_list=[1,2,3,4]\n",
        "a=np.array(new_list)\n",
        "a\n",
        "\n"
      ],
      "metadata": {
        "colab": {
          "base_uri": "https://localhost:8080/"
        },
        "id": "tTDcTY3aj-si",
        "outputId": "cdf8abca-e511-415a-8f85-98fa4a70a10e"
      },
      "execution_count": null,
      "outputs": [
        {
          "output_type": "execute_result",
          "data": {
            "text/plain": [
              "array([1, 2, 3, 4])"
            ]
          },
          "metadata": {},
          "execution_count": 36
        }
      ]
    },
    {
      "cell_type": "markdown",
      "source": [
        "41.1\n",
        "\n",
        "1)\n"
      ],
      "metadata": {
        "id": "y719Nt2Xk7RK"
      }
    },
    {
      "cell_type": "code",
      "source": [
        "a=np.arange(10,49)\n",
        "a"
      ],
      "metadata": {
        "colab": {
          "base_uri": "https://localhost:8080/"
        },
        "id": "cuxS_fXwldQ3",
        "outputId": "1d16afde-c74a-463a-e9ac-8e5c2bca3ebc"
      },
      "execution_count": null,
      "outputs": [
        {
          "output_type": "execute_result",
          "data": {
            "text/plain": [
              "array([10, 11, 12, 13, 14, 15, 16, 17, 18, 19, 20, 21, 22, 23, 24, 25, 26,\n",
              "       27, 28, 29, 30, 31, 32, 33, 34, 35, 36, 37, 38, 39, 40, 41, 42, 43,\n",
              "       44, 45, 46, 47, 48])"
            ]
          },
          "metadata": {},
          "execution_count": 42
        }
      ]
    },
    {
      "cell_type": "markdown",
      "source": [
        "2)\n"
      ],
      "metadata": {
        "id": "0qHdpTbWnL1D"
      }
    },
    {
      "cell_type": "code",
      "source": [
        "a=np.arange(0,9)\n",
        "a.reshape(3,3)\n"
      ],
      "metadata": {
        "colab": {
          "base_uri": "https://localhost:8080/"
        },
        "id": "XVX9gEjbnN3G",
        "outputId": "ca4e7e0c-a3ee-4e09-f711-5b99db59cf4c"
      },
      "execution_count": null,
      "outputs": [
        {
          "output_type": "execute_result",
          "data": {
            "text/plain": [
              "array([[0, 1, 2],\n",
              "       [3, 4, 5],\n",
              "       [6, 7, 8]])"
            ]
          },
          "metadata": {},
          "execution_count": 49
        }
      ]
    },
    {
      "cell_type": "markdown",
      "source": [
        "3)"
      ],
      "metadata": {
        "id": "U1rXsAvEoIyp"
      }
    },
    {
      "cell_type": "code",
      "source": [
        "a=np.eye(3,3)\n",
        "a"
      ],
      "metadata": {
        "colab": {
          "base_uri": "https://localhost:8080/"
        },
        "id": "GyDm9txMm0_i",
        "outputId": "42c329ab-53a1-48db-b335-4b98eb8eff05"
      },
      "execution_count": null,
      "outputs": [
        {
          "output_type": "execute_result",
          "data": {
            "text/plain": [
              "array([[1., 0., 0.],\n",
              "       [0., 1., 0.],\n",
              "       [0., 0., 1.]])"
            ]
          },
          "metadata": {},
          "execution_count": 51
        }
      ]
    },
    {
      "cell_type": "markdown",
      "source": [
        "4)"
      ],
      "metadata": {
        "id": "T8vkGFfaoR8u"
      }
    },
    {
      "cell_type": "code",
      "source": [
        "a=np.random.random(30)\n",
        "a.mean()"
      ],
      "metadata": {
        "colab": {
          "base_uri": "https://localhost:8080/"
        },
        "id": "fmTlSLlXoTEu",
        "outputId": "9a099c2a-0076-4dfc-f118-5607802e7c74"
      },
      "execution_count": null,
      "outputs": [
        {
          "output_type": "execute_result",
          "data": {
            "text/plain": [
              "0.5132235582905567"
            ]
          },
          "metadata": {},
          "execution_count": 52
        }
      ]
    },
    {
      "cell_type": "markdown",
      "source": [
        "5)\n"
      ],
      "metadata": {
        "id": "v8rsaVO3pVho"
      }
    },
    {
      "cell_type": "code",
      "source": [
        "a=np.random.rand(10,10)\n",
        "mini=a.min()\n",
        "maxi=a.max()\n",
        "mini,maxi\n"
      ],
      "metadata": {
        "colab": {
          "base_uri": "https://localhost:8080/"
        },
        "id": "TrPVSKSqpWov",
        "outputId": "127855f3-12f4-469b-8ce7-109a3c13dc22"
      },
      "execution_count": null,
      "outputs": [
        {
          "output_type": "execute_result",
          "data": {
            "text/plain": [
              "(0.009108027346101721, 0.9844691124388221)"
            ]
          },
          "metadata": {},
          "execution_count": 58
        }
      ]
    },
    {
      "cell_type": "markdown",
      "source": [
        "6)"
      ],
      "metadata": {
        "id": "OVYegKNgrDN0"
      }
    },
    {
      "cell_type": "code",
      "source": [
        "a=np.zeros(10)\n",
        "a[4]=1\n",
        "a\n"
      ],
      "metadata": {
        "colab": {
          "base_uri": "https://localhost:8080/"
        },
        "id": "cETueKLprEfx",
        "outputId": "a6c26904-6688-4be6-b438-db8e18705d5b"
      },
      "execution_count": null,
      "outputs": [
        {
          "output_type": "execute_result",
          "data": {
            "text/plain": [
              "array([0., 0., 0., 0., 1., 0., 0., 0., 0., 0.])"
            ]
          },
          "metadata": {},
          "execution_count": 71
        }
      ]
    },
    {
      "cell_type": "markdown",
      "source": [
        "7)"
      ],
      "metadata": {
        "id": "WlIXKwtCr1qd"
      }
    },
    {
      "cell_type": "code",
      "source": [
        "a=(1,2,0,0,4,0)\n",
        "rev=np.flip(a)\n",
        "rev"
      ],
      "metadata": {
        "colab": {
          "base_uri": "https://localhost:8080/"
        },
        "id": "P_uLbphkr3Qk",
        "outputId": "9ee9e6bf-80ab-424c-d5c0-641c52b41127"
      },
      "execution_count": null,
      "outputs": [
        {
          "output_type": "execute_result",
          "data": {
            "text/plain": [
              "array([0, 4, 0, 0, 2, 1])"
            ]
          },
          "metadata": {},
          "execution_count": 69
        }
      ]
    },
    {
      "cell_type": "markdown",
      "source": [
        "8)\n"
      ],
      "metadata": {
        "id": "HJ0WztSRs0_z"
      }
    },
    {
      "cell_type": "code",
      "source": [
        "import numpy as np\n",
        "import matplotlib.pyplot as plt\n",
        "\n",
        "# Task 1: Create a 2D array with 1 on the border and 0 inside\n",
        "def create_border_array(size):\n",
        "    array = np.zeros((size, size), dtype=int)\n",
        "    array[0, :] = 1\n",
        "    array[-1, :] = 1\n",
        "    array[:, 0] = 1\n",
        "    array[:, -1] = 1\n",
        "    return array\n",
        "\n",
        "border_array = create_border_array(5)\n",
        "print(\"2D Array with 1 on border and 0 inside:\\n\", border_array)\n",
        "\n",
        "# Task 2: Create an 8x8 matrix with a checkerboard pattern\n",
        "def create_checkerboard(size):\n",
        "    checkerboard = np.zeros((size, size), dtype=int)\n",
        "    checkerboard[1::2, ::2] = 1\n",
        "    checkerboard[::2, 1::2] = 1\n",
        "    return checkerboard\n",
        "\n",
        "checkerboard_array = create_checkerboard(8)\n",
        "print(\"\\n8x8 Checkerboard Pattern:\\n\", checkerboard_array)\n",
        "\n",
        "# Optional: Visualize the checkerboard pattern\n",
        "plt.imshow(checkerboard_array, cmap='gray')\n",
        "plt.title(\"8x8 Checkerboard Pattern\")\n",
        "plt.axis('off')  # Turn off axis\n",
        "plt.show()"
      ],
      "metadata": {
        "colab": {
          "base_uri": "https://localhost:8080/",
          "height": 720
        },
        "id": "UIhGGGCjZS3x",
        "outputId": "88e494c3-7da1-4416-8542-a73ec8e8f233"
      },
      "execution_count": null,
      "outputs": [
        {
          "output_type": "stream",
          "name": "stdout",
          "text": [
            "2D Array with 1 on border and 0 inside:\n",
            " [[1 1 1 1 1]\n",
            " [1 0 0 0 1]\n",
            " [1 0 0 0 1]\n",
            " [1 0 0 0 1]\n",
            " [1 1 1 1 1]]\n",
            "\n",
            "8x8 Checkerboard Pattern:\n",
            " [[0 1 0 1 0 1 0 1]\n",
            " [1 0 1 0 1 0 1 0]\n",
            " [0 1 0 1 0 1 0 1]\n",
            " [1 0 1 0 1 0 1 0]\n",
            " [0 1 0 1 0 1 0 1]\n",
            " [1 0 1 0 1 0 1 0]\n",
            " [0 1 0 1 0 1 0 1]\n",
            " [1 0 1 0 1 0 1 0]]\n"
          ]
        },
        {
          "output_type": "display_data",
          "data": {
            "text/plain": [
              "<Figure size 640x480 with 1 Axes>"
            ],
            "image/png": "[encoded data removed]"
          },
          "metadata": {}
        }
      ]
    },
    {
      "cell_type": "markdown",
      "source": [
        "Array Operation"
      ],
      "metadata": {
        "id": "JfnoL_ZrZpPJ"
      }
    },
    {
      "cell_type": "code",
      "source": [
        "import numpy as np\n",
        "x = np.array([[1, 2], [3, 5]])\n",
        "y = np.array([[5, 6], [7, 8]])\n",
        "v = np.array([9, 10])\n",
        "w = np.array([11, 12])\n",
        "\n",
        "# 1. Add the two arrays\n",
        "addition = x + y\n",
        "print(\"Addition:\\n\", addition)\n",
        "\n",
        "# 2. Subtract the two arrays\n",
        "subtraction = x - y\n",
        "print(\"Subtraction:\\n\", subtraction)\n",
        "\n",
        "# 3. Multiply the array with any integers of your choice\n",
        "multiply_x = x * 2\n",
        "multiply_y = y * 3\n",
        "print(\"Multiply x by 2:\\n\", multiply_x)\n",
        "print(\"Multiply y by 3:\\n\", multiply_y)\n",
        "\n",
        "# 4. Find the square of each element of the array\n",
        "square_x = np.square(x)\n",
        "square_y = np.square(y)\n",
        "print(\"Square of x:\\n\", square_x)\n",
        "print(\"Square of y:\\n\", square_y)\n",
        "\n",
        "# 5. Find the dot product\n",
        "dot_v_w = np.dot(v, w)\n",
        "dot_x_v = np.dot(x, v)\n",
        "dot_x_y = np.dot(x, y)\n",
        "print(\"Dot product v and w:\", dot_v_w)\n",
        "print(\"Dot product x and v:\\n\", dot_x_v)\n",
        "print(\"Dot product x and y:\\n\", dot_x_y)\n",
        "\n",
        "# 6. Concatenate x and y along row and concatenate v and w along column\n",
        "concatenate_xy = np.concatenate((x, y), axis=0)\n",
        "concatenate_vw = np.concatenate((v.reshape(-1, 1), w.reshape(-1, 1)), axis=1)\n",
        "print(\"Concatenated x and y along rows:\\n\", concatenate_xy)\n",
        "print(\"Concatenated v and w along columns:\\n\", concatenate_vw)\n",
        "\n",
        "# 7. Concatenate x and v; if you get an error, observe and explain why did you get the error?\n",
        "try:\n",
        "    concatenate_xv = np.concatenate((x, v), axis=0)\n",
        "except ValueError as e:\n",
        "    print(\"Error:\", e)\n",
        "\n",
        "# To fix the error and concatenate x and v\n",
        "v_reshaped = v.reshape(2, 1)\n",
        "concatenate_xv = np.concatenate((x, v_reshaped), axis=1) k\n",
        "print(\"Concatenated x and reshaped v along columns:\\n\", concatenate_xv)\n"
      ],
      "metadata": {
        "colab": {
          "base_uri": "https://localhost:8080/"
        },
        "id": "8RTvwKSTZrh4",
        "outputId": "69f7f100-78bd-463f-da27-aacde71e2457"
      },
      "execution_count": null,
      "outputs": [
        {
          "output_type": "stream",
          "name": "stdout",
          "text": [
            "Addition:\n",
            " [[ 6  8]\n",
            " [10 13]]\n",
            "Subtraction:\n",
            " [[-4 -4]\n",
            " [-4 -3]]\n",
            "Multiply x by 2:\n",
            " [[ 2  4]\n",
            " [ 6 10]]\n",
            "Multiply y by 3:\n",
            " [[15 18]\n",
            " [21 24]]\n",
            "Square of x:\n",
            " [[ 1  4]\n",
            " [ 9 25]]\n",
            "Square of y:\n",
            " [[25 36]\n",
            " [49 64]]\n",
            "Dot product v and w: 219\n",
            "Dot product x and v:\n",
            " [29 77]\n",
            "Dot product x and y:\n",
            " [[19 22]\n",
            " [50 58]]\n",
            "Concatenated x and y along rows:\n",
            " [[1 2]\n",
            " [3 5]\n",
            " [5 6]\n",
            " [7 8]]\n",
            "Concatenated v and w along columns:\n",
            " [[ 9 11]\n",
            " [10 12]]\n",
            "Error: all the input arrays must have same number of dimensions, but the array at index 0 has 2 dimension(s) and the array at index 1 has 1 dimension(s)\n",
            "Concatenated x and reshaped v along columns:\n",
            " [[ 1  2  9]\n",
            " [ 3  5 10]]\n"
          ]
        }
      ]
    },
    {
      "cell_type": "markdown",
      "source": [],
      "metadata": {
        "id": "UKCiHO1jblTj"
      }
    },
    {
      "cell_type": "code",
      "source": [
        "import numpy as np\n",
        "\n",
        "# Define the matrices\n",
        "A = np.array([[3, 4], [7, 8]])\n",
        "B = np.array([[5, 3], [2, 1]])\n",
        "# Calculate the inverse of A\n",
        "A_inv = np.linalg.inv(A)\n",
        "\n",
        "# Calculate A * A_inv\n",
        "identity = np.dot(A, A_inv)\n",
        "print(\"A * A_inv:\\n\", identity)\n",
        "# Calculate AB and BA\n",
        "AB = np.dot(A, B)\n",
        "BA = np.dot(B, A)\n",
        "\n",
        "print(\"AB:\\n\", AB)\n",
        "print(\"BA:\\n\", BA)\n",
        "\n",
        "# Check if AB is not equal to BA\n",
        "print(\"AB != BA:\", not np.array_equal(AB, BA))\n",
        "\n",
        "\n",
        "# Calculate (AB)^T and B^T A^T\n",
        "AB_T = np.transpose(AB)\n",
        "BT_AT = np.dot(np.transpose(B), np.transpose(A))\n",
        "\n",
        "print(\"Transpose of AB:\\n\", AB_T)\n",
        "print(\"B^T A^T:\\n\", BT_AT)\n",
        "\n",
        "# Check if they are equal\n",
        "print(\"(AB)^T == B^T A^T:\", np.array_equal(AB_T, BT_AT))\n",
        "# Calculate (AB)^T and B^T A^T\n",
        "AB_T = np.transpose(AB)\n",
        "BT_AT = np.dot(np.transpose(B), np.transpose(A))\n",
        "\n",
        "print(\"Transpose of AB:\\n\", AB_T)\n",
        "print(\"B^T A^T:\\n\", BT_AT)\n",
        "\n",
        "# Check if they are equal\n",
        "print(\"(AB)^T == B^T A^T:\", np.array_equal(AB_T, BT_AT))"
      ],
      "metadata": {
        "colab": {
          "base_uri": "https://localhost:8080/"
        },
        "id": "NNgLQBTLb4U4",
        "outputId": "49a78dd1-0210-4565-9917-176453378ae8"
      },
      "execution_count": null,
      "outputs": [
        {
          "output_type": "stream",
          "name": "stdout",
          "text": [
            "A * A_inv:\n",
            " [[1.00000000e+00 0.00000000e+00]\n",
            " [1.77635684e-15 1.00000000e+00]]\n",
            "AB:\n",
            " [[23 13]\n",
            " [51 29]]\n",
            "BA:\n",
            " [[36 44]\n",
            " [13 16]]\n",
            "AB != BA: True\n",
            "Transpose of AB:\n",
            " [[23 51]\n",
            " [13 29]]\n",
            "B^T A^T:\n",
            " [[23 51]\n",
            " [13 29]]\n",
            "(AB)^T == B^T A^T: True\n",
            "Transpose of AB:\n",
            " [[23 51]\n",
            " [13 29]]\n",
            "B^T A^T:\n",
            " [[23 51]\n",
            " [13 29]]\n",
            "(AB)^T == B^T A^T: True\n"
          ]
        }
      ]
    }
  ]
}